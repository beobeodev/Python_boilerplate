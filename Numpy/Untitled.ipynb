{
 "cells": [
  {
   "cell_type": "code",
   "execution_count": 1,
   "id": "optical-episode",
   "metadata": {},
   "outputs": [],
   "source": [
    "import numpy as np"
   ]
  },
  {
   "cell_type": "markdown",
   "id": "coral-newark",
   "metadata": {},
   "source": [
    "Tính nghịch đảo ma trận"
   ]
  },
  {
   "cell_type": "code",
   "execution_count": 2,
   "id": "abroad-mercy",
   "metadata": {},
   "outputs": [],
   "source": [
    "Y=[[2,3],[5,6]]"
   ]
  },
  {
   "cell_type": "code",
   "execution_count": 3,
   "id": "resistant-civilian",
   "metadata": {},
   "outputs": [
    {
     "name": "stdout",
     "output_type": "stream",
     "text": [
      "[[-2.          1.        ]\n",
      " [ 1.66666667 -0.66666667]]\n"
     ]
    }
   ],
   "source": [
    "print(np.linalg.inv(Y))"
   ]
  },
  {
   "cell_type": "markdown",
   "id": "fresh-medicaid",
   "metadata": {},
   "source": [
    "Tạo ma trận theo kỳ vọng và hiệp phương sai"
   ]
  },
  {
   "cell_type": "code",
   "execution_count": 12,
   "id": "solid-brand",
   "metadata": {},
   "outputs": [],
   "source": [
    "means=[2,1]\n",
    "cov=[[1,0],[0,1]]\n",
    "X=np.random.multivariate_normal(means,cov,10)"
   ]
  },
  {
   "cell_type": "code",
   "execution_count": 13,
   "id": "radical-hollywood",
   "metadata": {},
   "outputs": [
    {
     "data": {
      "text/plain": [
       "array([[ 0.94020271,  0.22474036],\n",
       "       [ 1.57684993,  2.56936089],\n",
       "       [ 1.85024892,  2.07910334],\n",
       "       [ 2.52695261,  0.57461344],\n",
       "       [ 2.78118563,  1.19484683],\n",
       "       [ 2.55209262, -0.72867857],\n",
       "       [ 0.70179413,  2.00625753],\n",
       "       [ 0.38875006,  1.22514416],\n",
       "       [ 1.48299373,  2.03888233],\n",
       "       [ 3.23961338,  0.22742983]])"
      ]
     },
     "execution_count": 13,
     "metadata": {},
     "output_type": "execute_result"
    }
   ],
   "source": [
    "X"
   ]
  },
  {
   "cell_type": "code",
   "execution_count": 15,
   "id": "chronic-magnet",
   "metadata": {},
   "outputs": [
    {
     "data": {
      "text/plain": [
       "1.804068374218056"
      ]
     },
     "execution_count": 15,
     "metadata": {},
     "output_type": "execute_result"
    }
   ],
   "source": [
    "sum(X[:,0])/10"
   ]
  },
  {
   "cell_type": "code",
   "execution_count": 16,
   "id": "radical-bahrain",
   "metadata": {},
   "outputs": [
    {
     "data": {
      "text/plain": [
       "1.141170014046665"
      ]
     },
     "execution_count": 16,
     "metadata": {},
     "output_type": "execute_result"
    }
   ],
   "source": [
    "sum(X[:,1])/10"
   ]
  },
  {
   "cell_type": "markdown",
   "id": "referenced-settlement",
   "metadata": {},
   "source": [
    "Lấy ngẫu nhiên các hàng trong ma trận"
   ]
  },
  {
   "cell_type": "code",
   "execution_count": 17,
   "id": "entitled-plymouth",
   "metadata": {},
   "outputs": [
    {
     "data": {
      "text/plain": [
       "array([[0.94020271, 0.22474036],\n",
       "       [2.52695261, 0.57461344],\n",
       "       [0.38875006, 1.22514416]])"
      ]
     },
     "execution_count": 17,
     "metadata": {},
     "output_type": "execute_result"
    }
   ],
   "source": [
    "X[np.random.choice(10,3,replace=False)] #Lấy ngẫu nhiên 3 hàng trong 10 hàng của ma trận X"
   ]
  },
  {
   "cell_type": "markdown",
   "id": "whole-chase",
   "metadata": {},
   "source": [
    "## Lấy chỉ số hàng hoặc cột mà có giá trị nhỏ nhất"
   ]
  },
  {
   "cell_type": "code",
   "execution_count": 18,
   "id": "distant-shipping",
   "metadata": {},
   "outputs": [
    {
     "data": {
      "text/plain": [
       "array([1, 0, 0, 1, 1, 1, 0, 0, 0, 1], dtype=int64)"
      ]
     },
     "execution_count": 18,
     "metadata": {},
     "output_type": "execute_result"
    }
   ],
   "source": [
    "np.argmin(X,axis=1)"
   ]
  },
  {
   "cell_type": "markdown",
   "id": "mental-psychology",
   "metadata": {},
   "source": [
    "## Lấy hàng mà thỏa mãn điều kiện được cho"
   ]
  },
  {
   "cell_type": "code",
   "execution_count": 32,
   "id": "signed-repository",
   "metadata": {},
   "outputs": [
    {
     "data": {
      "text/plain": [
       "array([[0.94020271, 0.22474036],\n",
       "       [1.85024892, 2.07910334],\n",
       "       [2.78118563, 1.19484683],\n",
       "       [0.70179413, 2.00625753]])"
      ]
     },
     "execution_count": 32,
     "metadata": {},
     "output_type": "execute_result"
    }
   ],
   "source": [
    "labels=np.array([1,0,1,0,1,0,1,0,0,0])\n",
    "X[labels==1,:]"
   ]
  },
  {
   "cell_type": "code",
   "execution_count": null,
   "id": "minus-drama",
   "metadata": {},
   "outputs": [],
   "source": []
  }
 ],
 "metadata": {
  "kernelspec": {
   "display_name": "Python 3",
   "language": "python",
   "name": "python3"
  },
  "language_info": {
   "codemirror_mode": {
    "name": "ipython",
    "version": 3
   },
   "file_extension": ".py",
   "mimetype": "text/x-python",
   "name": "python",
   "nbconvert_exporter": "python",
   "pygments_lexer": "ipython3",
   "version": "3.8.3"
  }
 },
 "nbformat": 4,
 "nbformat_minor": 5
}
